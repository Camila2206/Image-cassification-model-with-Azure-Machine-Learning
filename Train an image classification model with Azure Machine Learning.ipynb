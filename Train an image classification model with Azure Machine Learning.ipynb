{
 "cells": [
  {
   "cell_type": "markdown",
   "source": [
    "# Train an image classification modelo with Azure Machine Learning"
   ],
   "metadata": {}
  },
  {
   "cell_type": "markdown",
   "source": [
    "## Connect to your workspace\r\n",
    "To get started, connect to your workspace. If you haven't already established an authenticated session with your Azure subscription, you'll be prompted to authenticate by clicking a link, entering an authentication code, and signing into Azure.\r\n",
    "\r\n",
    "> **Note**: If you haven't already established an authenticated session with your Azure subscription, you'll be prompted to authenticate by clicking a link, entering an authentication code, and signing into Azure."
   ],
   "metadata": {}
  },
  {
   "cell_type": "code",
   "execution_count": 1,
   "source": [
    "import azureml.core\r\n",
    "from azureml.core import Workspace\r\n",
    "\r\n",
    "# Load the workspace from the saved config file\r\n",
    "ws = Workspace.from_config()\r\n",
    "print('Ready to use Azure ML {} to work with {}'.format(azureml.core.VERSION, ws.name))"
   ],
   "outputs": [
    {
     "output_type": "stream",
     "name": "stdout",
     "text": [
      "Ready to use Azure ML 1.33.0 to work with TT-ws-CCB\n"
     ]
    }
   ],
   "metadata": {}
  },
  {
   "cell_type": "markdown",
   "source": [
    "# Import packages\r\n",
    "Importe los paquetes de Python que necesite en esta sesión. Visualice también la versión del SDK de Azure Machine Learning."
   ],
   "metadata": {}
  },
  {
   "cell_type": "code",
   "execution_count": 2,
   "source": [
    "%matplotlib inline\r\n",
    "import numpy as np\r\n",
    "import matplotlib.pyplot as plt"
   ],
   "outputs": [],
   "metadata": {}
  },
  {
   "cell_type": "markdown",
   "source": [
    "#  Create experiment\r\n",
    "Create an experiment to track the runs in your workspace. A workspace can have muliple experiments."
   ],
   "metadata": {}
  },
  {
   "cell_type": "code",
   "execution_count": 4,
   "source": [
    "experiment_name='Classification-Covid19-sklearn'\r\n",
    "\r\n",
    "from azureml.core import  Experiment\r\n",
    "exp=Experiment(workspace=ws,name=experiment_name)"
   ],
   "outputs": [],
   "metadata": {}
  },
  {
   "cell_type": "markdown",
   "source": [
    "# Explore data\r\n",
    "Before you train a model, you need to understand the data that you are using to train it. In this section you learn how to:\r\n",
    "- **Download** the COVID-19 Radiography Database from Kaggle\r\n",
    "- **Display** some sampple image"
   ],
   "metadata": {}
  },
  {
   "cell_type": "code",
   "execution_count": null,
   "source": [
    "from azureml.core import Dataset"
   ],
   "outputs": [],
   "metadata": {}
  }
 ],
 "metadata": {
  "orig_nbformat": 4,
  "language_info": {
   "name": "python",
   "version": "3.8.10",
   "mimetype": "text/x-python",
   "codemirror_mode": {
    "name": "ipython",
    "version": 3
   },
   "pygments_lexer": "ipython3",
   "nbconvert_exporter": "python",
   "file_extension": ".py"
  },
  "kernelspec": {
   "name": "python3",
   "display_name": "Python 3.8.10 64-bit"
  },
  "interpreter": {
   "hash": "6c68c24c9f6dc6214c1cb1fe145e14906af977bf87c30f07fe886d1925d8ed5f"
  }
 },
 "nbformat": 4,
 "nbformat_minor": 2
}